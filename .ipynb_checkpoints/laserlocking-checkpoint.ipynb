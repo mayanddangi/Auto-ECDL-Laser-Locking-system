{
 "cells": [
  {
   "cell_type": "code",
   "execution_count": null,
   "id": "0e6bd9d1",
   "metadata": {},
   "outputs": [],
   "source": [
    "import time\n",
    "import tqdm\n",
    "import serial\n",
    "import numpy as np\n",
    "import matplotlib.pyplot as plt\n",
    "\n",
    "import lockcoordinates\n",
    "\n",
    "%matplotlib notebook"
   ]
  },
  {
   "cell_type": "code",
   "execution_count": null,
   "id": "99f78413",
   "metadata": {},
   "outputs": [],
   "source": [
    "def gaussian_kernel(size, sigma):\n",
    "    \"\"\"Returns a 1D Gaussian kernel of the given size and sigma\"\"\"\n",
    "    x = np.arange(-size//2, size//2 + 1, 1)\n",
    "    kernel = np.exp(-(x**2) / (2 * sigma**2))\n",
    "    kernel /= np.sum(kernel)\n",
    "    return kernel"
   ]
  },
  {
   "cell_type": "code",
   "execution_count": null,
   "id": "89b69360",
   "metadata": {},
   "outputs": [],
   "source": [
    "port = 'COM7'\n",
    "baudrate = 250000"
   ]
  },
  {
   "cell_type": "code",
   "execution_count": null,
   "id": "9bdcd5ab",
   "metadata": {},
   "outputs": [],
   "source": [
    "ser = serial.Serial(port, baudrate, timeout=1)\n",
    "time.sleep(2)"
   ]
  },
  {
   "cell_type": "code",
   "execution_count": null,
   "id": "8107a9de",
   "metadata": {},
   "outputs": [],
   "source": [
    "# start scanning\n",
    "ser.write(b's000000000')"
   ]
  },
  {
   "cell_type": "code",
   "execution_count": null,
   "id": "82ddf6a7",
   "metadata": {},
   "outputs": [],
   "source": [
    "# start locking\n",
    "ser.write(b'l000000000')\n",
    "\n",
    "# start reading signal\n",
    "\n",
    "data = []\n",
    "try:\n",
    "    for i in tqdm.tqdm(range(100000)):\n",
    "        line = ser.readline()\n",
    "        i+=1\n",
    "        if line:\n",
    "            string = line.decode()\n",
    "            data.append(string)\n",
    "except KeyboardInterrupt:\n",
    "    print(\"end\")"
   ]
  },
  {
   "cell_type": "code",
   "execution_count": null,
   "id": "25627193",
   "metadata": {},
   "outputs": [],
   "source": [
    "data[2]"
   ]
  },
  {
   "cell_type": "code",
   "execution_count": null,
   "id": "a4f74df3",
   "metadata": {},
   "outputs": [],
   "source": [
    "ramp = []\n",
    "pd1 = []\n",
    "pd2 = []\n",
    "\n",
    "for i in tqdm.tqdm(range(1,len(data[:]))):\n",
    "    if(len(data[i].split(\",\"))!=3):\n",
    "        print(i)\n",
    "        continue\n",
    "    try:\n",
    "        a, b, c = data[i].split(\",\")\n",
    "    except Exception:\n",
    "        continue\n",
    "#     ramp.append(int(a))\n",
    "    pd1.append(int(b))\n",
    "    pd2.append(int(c[:-2]))"
   ]
  },
  {
   "cell_type": "code",
   "execution_count": null,
   "id": "db1b3f4e",
   "metadata": {},
   "outputs": [],
   "source": [
    "pd1 = np.array(pd1)\n",
    "pd2 = np.array(pd2)\n",
    "error = pd1 - pd2"
   ]
  },
  {
   "cell_type": "code",
   "execution_count": null,
   "id": "3c394fa0",
   "metadata": {},
   "outputs": [],
   "source": [
    "output = lockcoordinates.LockCoordinates(onnx_model_path)\n",
    "set_point_time, set_point = output.getLockingPoint(pd1, pd2)"
   ]
  },
  {
   "cell_type": "code",
   "execution_count": null,
   "id": "88c86519",
   "metadata": {},
   "outputs": [],
   "source": [
    "sign = 0\n",
    "if(set_point < 0):\n",
    "    sign = 1"
   ]
  },
  {
   "cell_type": "code",
   "execution_count": null,
   "id": "5a4da51a",
   "metadata": {},
   "outputs": [],
   "source": [
    "# initialize set_point, set_point_time\n",
    "set_point = str(abs(set_point)).zfill(4)\n",
    "set_point_time = str(set_point_time).zfill(4)\n",
    "if(sign == 1):\n",
    "    set_point = '1'+set_point[1:]\n",
    "print(f'set point: {set_point}\\n set_point_time: {set_point_time}')"
   ]
  },
  {
   "cell_type": "code",
   "execution_count": null,
   "id": "edd06679",
   "metadata": {},
   "outputs": [],
   "source": [
    "# transmit value\n",
    "temp = 'v'+set_point+set_point_time+sign\n",
    "ser.write(temp.encode())"
   ]
  },
  {
   "cell_type": "code",
   "execution_count": null,
   "id": "475584da",
   "metadata": {},
   "outputs": [],
   "source": [
    "ser.close()"
   ]
  }
 ],
 "metadata": {
  "kernelspec": {
   "display_name": "Python 3 (ipykernel)",
   "language": "python",
   "name": "python3"
  },
  "language_info": {
   "codemirror_mode": {
    "name": "ipython",
    "version": 3
   },
   "file_extension": ".py",
   "mimetype": "text/x-python",
   "name": "python",
   "nbconvert_exporter": "python",
   "pygments_lexer": "ipython3",
   "version": "3.9.12"
  }
 },
 "nbformat": 4,
 "nbformat_minor": 5
}
